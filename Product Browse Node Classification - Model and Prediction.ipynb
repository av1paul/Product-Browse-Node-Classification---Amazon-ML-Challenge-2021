{
 "cells": [
  {
   "cell_type": "markdown",
   "metadata": {},
   "source": [
    "## Import the necessary libraries"
   ]
  },
  {
   "cell_type": "code",
   "execution_count": 3,
   "metadata": {
    "execution": {
     "iopub.execute_input": "2021-08-01T10:52:57.277812Z",
     "iopub.status.busy": "2021-08-01T10:52:57.277520Z",
     "iopub.status.idle": "2021-08-01T10:52:57.296433Z",
     "shell.execute_reply": "2021-08-01T10:52:57.295539Z",
     "shell.execute_reply.started": "2021-08-01T10:52:57.277784Z"
    }
   },
   "outputs": [],
   "source": [
    "import numpy as np\n",
    "import pandas as pd\n",
    "from sklearn.model_selection import train_test_split\n",
    "from sklearn.pipeline import Pipeline\n",
    "from sklearn.feature_extraction.text import TfidfVectorizer\n",
    "from sklearn.svm import LinearSVC\n",
    "from sklearn import metrics"
   ]
  },
  {
   "cell_type": "markdown",
   "metadata": {},
   "source": [
    "## Loading the necessary preprocessed data"
   ]
  },
  {
   "cell_type": "code",
   "execution_count": 6,
   "metadata": {
    "execution": {
     "iopub.execute_input": "2021-08-01T11:17:43.356597Z",
     "iopub.status.busy": "2021-08-01T11:17:43.355994Z",
     "iopub.status.idle": "2021-08-01T11:17:44.457807Z",
     "shell.execute_reply": "2021-08-01T11:17:44.456796Z",
     "shell.execute_reply.started": "2021-08-01T11:17:43.356558Z"
    }
   },
   "outputs": [],
   "source": [
    "df=pd.read_csv('../input/preprocessed-data-for-classifier/Final preprocessed text.csv')\n",
    "df1=pd.read_csv('../input/test-data/Preprocessed test data for classification.csv')"
   ]
  },
  {
   "cell_type": "markdown",
   "metadata": {},
   "source": [
    "## Splitting into test and train data"
   ]
  },
  {
   "cell_type": "code",
   "execution_count": 4,
   "metadata": {
    "execution": {
     "iopub.execute_input": "2021-08-01T10:53:00.911453Z",
     "iopub.status.busy": "2021-08-01T10:53:00.910986Z",
     "iopub.status.idle": "2021-08-01T10:53:00.968823Z",
     "shell.execute_reply": "2021-08-01T10:53:00.968024Z",
     "shell.execute_reply.started": "2021-08-01T10:53:00.911421Z"
    }
   },
   "outputs": [],
   "source": [
    "X = df['Titles']\n",
    "y = df['Browse_node']\n",
    "X_train, X_test, y_train, y_test = train_test_split(X, y, test_size=0.4, random_state=42)"
   ]
  },
  {
   "cell_type": "markdown",
   "metadata": {},
   "source": [
    "## SVM model"
   ]
  },
  {
   "cell_type": "code",
   "execution_count": 5,
   "metadata": {
    "execution": {
     "iopub.execute_input": "2021-08-01T10:53:03.326341Z",
     "iopub.status.busy": "2021-08-01T10:53:03.325994Z",
     "iopub.status.idle": "2021-08-01T11:03:35.350532Z",
     "shell.execute_reply": "2021-08-01T11:03:35.349400Z",
     "shell.execute_reply.started": "2021-08-01T10:53:03.326306Z"
    }
   },
   "outputs": [
    {
     "name": "stdout",
     "output_type": "stream",
     "text": [
      "0.6336460855528652\n"
     ]
    }
   ],
   "source": [
    "text_clf_lsvc = Pipeline([('tfidf', TfidfVectorizer()),\n",
    "                     ('clf', LinearSVC()),])\n",
    "        \n",
    "text_clf_lsvc.fit(X_train, y_train)\n",
    "predictions = text_clf_lsvc.predict(X_test)\n",
    "print(metrics.accuracy_score(y_test,predictions))"
   ]
  },
  {
   "cell_type": "markdown",
   "metadata": {},
   "source": [
    "## Putting it into final dataframe"
   ]
  },
  {
   "cell_type": "code",
   "execution_count": 10,
   "metadata": {
    "execution": {
     "iopub.execute_input": "2021-08-01T11:22:59.277127Z",
     "iopub.status.busy": "2021-08-01T11:22:59.276773Z",
     "iopub.status.idle": "2021-08-01T11:25:41.023516Z",
     "shell.execute_reply": "2021-08-01T11:25:41.022730Z",
     "shell.execute_reply.started": "2021-08-01T11:22:59.277096Z"
    }
   },
   "outputs": [],
   "source": [
    "list_test=df1['Titles']\n",
    "list_p_id=df1['Product_id']\n",
    "browse_ids=[]\n",
    "for each in list_test:\n",
    "    k=text_clf_lsvc.predict([str(each)])\n",
    "    browse_ids.append(k[0])\n"
   ]
  },
  {
   "cell_type": "code",
   "execution_count": 18,
   "metadata": {
    "execution": {
     "iopub.execute_input": "2021-08-01T11:35:43.494615Z",
     "iopub.status.busy": "2021-08-01T11:35:43.494260Z",
     "iopub.status.idle": "2021-08-01T11:35:43.534898Z",
     "shell.execute_reply": "2021-08-01T11:35:43.534124Z",
     "shell.execute_reply.started": "2021-08-01T11:35:43.494583Z"
    }
   },
   "outputs": [],
   "source": [
    "dataframe=pd.DataFrame({'PRODUCT_ID':list_p_id,'BROWSE_NODE_ID':browse_ids})"
   ]
  },
  {
   "cell_type": "markdown",
   "metadata": {},
   "source": [
    "## Exporting the final submission in csv file"
   ]
  },
  {
   "cell_type": "code",
   "execution_count": 19,
   "metadata": {
    "execution": {
     "iopub.execute_input": "2021-08-01T11:35:49.228321Z",
     "iopub.status.busy": "2021-08-01T11:35:49.227820Z",
     "iopub.status.idle": "2021-08-01T11:35:49.365749Z",
     "shell.execute_reply": "2021-08-01T11:35:49.364650Z",
     "shell.execute_reply.started": "2021-08-01T11:35:49.228276Z"
    }
   },
   "outputs": [],
   "source": [
    "dataframe.to_csv('Final_submission.csv', index=False)"
   ]
  }
 ],
 "metadata": {
  "hide_input": false,
  "kernelspec": {
   "display_name": "Python 3",
   "language": "python",
   "name": "python3"
  },
  "language_info": {
   "codemirror_mode": {
    "name": "ipython",
    "version": 3
   },
   "file_extension": ".py",
   "mimetype": "text/x-python",
   "name": "python",
   "nbconvert_exporter": "python",
   "pygments_lexer": "ipython3",
   "version": "3.7.4"
  }
 },
 "nbformat": 4,
 "nbformat_minor": 4
}
